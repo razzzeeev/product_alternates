{
  "nbformat": 4,
  "nbformat_minor": 0,
  "metadata": {
    "colab": {
      "provenance": [],
      "gpuType": "T4",
      "authorship_tag": "ABX9TyOwpbfLsyIhYu2BnrIYqbvp",
      "include_colab_link": true
    },
    "kernelspec": {
      "name": "python3",
      "display_name": "Python 3"
    },
    "language_info": {
      "name": "python"
    },
    "accelerator": "GPU",
    "gpuClass": "standard"
  },
  "cells": [
    {
      "cell_type": "markdown",
      "metadata": {
        "id": "view-in-github",
        "colab_type": "text"
      },
      "source": [
        "<a href=\"https://colab.research.google.com/github/razzzeeev/product_alternates/blob/main/Help_shoppers_find_product_alternates.ipynb\" target=\"_parent\"><img src=\"https://colab.research.google.com/assets/colab-badge.svg\" alt=\"Open In Colab\"/></a>"
      ]
    },
    {
      "cell_type": "code",
      "source": [
        "# !pip install sentence_transformers\n"
      ],
      "metadata": {
        "id": "vBc22t_5QeEO"
      },
      "execution_count": null,
      "outputs": []
    },
    {
      "cell_type": "markdown",
      "source": [
        "In the FindAlternateGroups function, I took an approach to group similar products from a store based on the cosine similarity between the sentence embeddings of their titles and descriptions.\n",
        "\n",
        "First, I fetched all the products from the store by paginating through the JSON endpoint. I then extracted the titles and descriptions of all the products and combined them into a single list.\n",
        "\n",
        "Next, I used the SentenceTransformer model to generate sentence embeddings for all product titles and descriptions. I then computed the pairwise cosine similarity between these sentence embeddings to measure the similarity between products.\n",
        "\n",
        "Finally, I grouped products based on a similarity threshold. Products with a cosine similarity greater than or equal to the specified similarity threshold were grouped together. I then prepared a result JSON containing groups of similar products and returned it from the function.\n",
        "\n",
        "This approach allowed me to group similar products from a store based on their titles and descriptions. By adjusting the similarity threshold, I could control how similar products needed to be in order to be grouped together."
      ],
      "metadata": {
        "id": "tNGIaUpaV3Df"
      }
    },
    {
      "cell_type": "code",
      "source": [
        "import json\n",
        "import requests\n",
        "from sentence_transformers import SentenceTransformer\n",
        "from sklearn.metrics.pairwise import cosine_similarity\n",
        "from bs4 import BeautifulSoup\n"
      ],
      "metadata": {
        "id": "d00OHekTS7m4"
      },
      "execution_count": null,
      "outputs": []
    },
    {
      "cell_type": "code",
      "source": [
        "def extract_text_from_html(html_string: str) -> str:\n",
        "    \"\"\"\n",
        "    Extracts text from an HTML string using BeautifulSoup and removes newline characters.\n",
        "\n",
        "    :param html_string: The HTML string to extract text from.\n",
        "    :return: The extracted text with newline characters removed.\n",
        "    \"\"\"\n",
        "    soup = BeautifulSoup(html_string, 'html.parser')\n",
        "    text = soup.get_text()\n",
        "    text = text.replace('\\n', '')\n",
        "    return text\n"
      ],
      "metadata": {
        "id": "E79jpEwhRdJD"
      },
      "execution_count": null,
      "outputs": []
    },
    {
      "cell_type": "code",
      "source": [
        "def FindAlternateGroups(store_domain):\n",
        "    \"\"\"\n",
        "    This function takes in a store domain and returns groups of similar products from the store.\n",
        "    The similarity between products is determined based on the cosine similarity between the sentence embeddings of their titles and descriptions.\n",
        "    Products with a cosine similarity greater than or equal to a specified similarity threshold are grouped together.\n",
        "\n",
        "    :param store_domain: The domain of the store to fetch products from.\n",
        "    :type store_domain: str\n",
        "    :return: A JSON string containing groups of similar products.\n",
        "    :rtype: str\n",
        "    \"\"\"\n",
        "    base_url = f\"https://{store_domain}\"\n",
        "    page = 1\n",
        "    all_products = []\n",
        "\n",
        "    # Fetch all products by paginating through the JSON endpoint\n",
        "    while True:\n",
        "        url = f\"{base_url}/collections/all/products.json?page={page}\"\n",
        "        response = requests.get(url)\n",
        "        data = response.json()\n",
        "\n",
        "        if not data[\"products\"]:\n",
        "            break\n",
        "\n",
        "        all_products.extend(data[\"products\"])\n",
        "        page += 1\n",
        "\n",
        "    # Extract product titles and descriptions for clustering\n",
        "    product_titles = [product['title'] for product in all_products]\n",
        "    product_descriptions = [extract_text_from_html(product.get('body_html', '')) for product in all_products]\n",
        "\n",
        "    # Combine product titles and descriptions\n",
        "    all_text = product_titles + product_descriptions\n",
        "\n",
        "    # Generate sentence embeddings using SentenceTransformer\n",
        "    model = SentenceTransformer('distilbert-base-nli-mean-tokens')\n",
        "    text_features = model.encode(all_text)\n",
        "\n",
        "    # Compute pairwise similarity between sentence embeddings\n",
        "    similarity_matrix = cosine_similarity(text_features)\n",
        "\n",
        "    # Group products based on similarity threshold\n",
        "    similarity_threshold = 0.8\n",
        "    cluster_groups = {}\n",
        "    for i in range(len(all_products)):\n",
        "        cluster_groups[i] = []\n",
        "        for j in range(len(all_products)):\n",
        "            if similarity_matrix[i][j] >= similarity_threshold:\n",
        "                cluster_groups[i].append(all_products[j])\n",
        "\n",
        "    # Prepare the result JSON\n",
        "    result = []\n",
        "    for group in cluster_groups.values():\n",
        "        product_links = [f\"{base_url}/products/{product['handle']}\" for product in group]\n",
        "        result.append(product_links)\n",
        "\n",
        "    return json.dumps(result)\n"
      ],
      "metadata": {
        "id": "jIOQYvAVRlNh"
      },
      "execution_count": null,
      "outputs": []
    },
    {
      "cell_type": "code",
      "source": [
        "store_domain='www.boysnextdoor-apparel.co'\n",
        "FindAlternateGroups(store_domain)"
      ],
      "metadata": {
        "id": "qiMdnTcjRy_L"
      },
      "execution_count": null,
      "outputs": []
    },
    {
      "cell_type": "markdown",
      "source": [
        "**Future Improvements:**\n",
        "There are several ways we can improve this model:\n",
        "\n",
        "1. **Use additional product features**: In addition to using the titles and descriptions of products, we can also use other features such as price, category, tags, etc. to measure the similarity between products. We can concatenate these features with the sentence embeddings of the titles and descriptions before computing the cosine similarity.\n",
        "\n",
        "2. **Use clustering algorithms**: Instead of grouping products based on a fixed similarity threshold, we can use clustering algorithms such as K-Means or DBSCAN to group similar products together. These algorithms can automatically determine the optimal number of groups and assign products to groups based on their similarity.\n",
        "\n",
        "3. **Use image processing**: If our products have images, we can use image processing techniques to extract visual features from the images and use them to measure the similarity between products. We can use pre-trained convolutional neural networks (CNNs) to extract these features and concatenate them with the sentence embeddings before computing the cosine similarity.\n",
        "\n",
        "By incorporating these techniques, we can improve the accuracy of our model in grouping similar products together."
      ],
      "metadata": {
        "id": "GOuoqomJVHAr"
      }
    }
  ]
}